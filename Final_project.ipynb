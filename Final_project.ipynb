{
  "nbformat": 4,
  "nbformat_minor": 0,
  "metadata": {
    "colab": {
      "name": "Final_project.ipynb",
      "provenance": [],
      "collapsed_sections": [],
      "toc_visible": true
    },
    "kernelspec": {
      "name": "python3",
      "display_name": "Python 3"
    }
  },
  "cells": [
    {
      "cell_type": "code",
      "metadata": {
        "id": "kCLprNxq-3Ab"
      },
      "source": [
        "import matplotlib.pyplot as pyplot \n",
        "import numpy as np \n",
        "import numpy.random as random \n",
        "import scipy.optimize as optimize \n",
        "import scipy.integrate as integrate "
      ],
      "execution_count": null,
      "outputs": []
    },
    {
      "cell_type": "code",
      "metadata": {
        "id": "trJsEJFWbe2I"
      },
      "source": [
        "#SIRD MODEL\n",
        "alpha=0     #we can change these later\n",
        "beta =0\n",
        "gamma = 0\n",
        "delta =0\n",
        "\n",
        "S=0 #we can change these later too  \n",
        "I=0\n",
        "R=0\n",
        "D=0\n",
        "\n",
        "#Differential Equations\n",
        "\n",
        "Ss= -alpha*S*I + gamma*R\n",
        "Is = alpha*S*I-beta*I-delta*I\n",
        "Rs = beta*I-gamma*R\n",
        "Ds= delta*I\n",
        "\n",
        "def SIRD_system(T,t):\n",
        "  S,I,R,D=T\n",
        "  system=np.array([-alpha*S*I + gamma*R,\n",
        "                   alpha*S*I-beta*I-delta*I,\n",
        "                   beta*I-gamma*R,delta*I])\n",
        "  return(system)\n",
        "\n"
      ],
      "execution_count": null,
      "outputs": []
    },
    {
      "cell_type": "code",
      "metadata": {
        "id": "Lh4ACtw3dfGo"
      },
      "source": [
        "t=np.arange(0,100,0.01)"
      ],
      "execution_count": null,
      "outputs": []
    },
    {
      "cell_type": "code",
      "metadata": {
        "id": "M9MwOgZBdkko"
      },
      "source": [
        "result = integrate.odeint(SIRD_system,[0,0,0,0],t)"
      ],
      "execution_count": null,
      "outputs": []
    },
    {
      "cell_type": "code",
      "metadata": {
        "id": "VXmLv6UHdxH8"
      },
      "source": [
        "#Dataset is from 'https://www.cdc.gov/vhf/ebola/history/2014-2016-outbreak/case-counts.html'\n",
        "#Hosting .txt files through GitHub\n",
        "date_starting_3_25_2014 = np.loadtxt('https://raw.githubusercontent.com/AIKhawaja/EVD-Vaccine-HIT/main/data/date%20starting%203.25.2014.txt')\n",
        "Total_Deaths = np.loadtxt('https://raw.githubusercontent.com/AIKhawaja/EVD-Vaccine-HIT/main/data/Total%20Deaths.txt')\n",
        "Total_Cases = np.loadtxt('https://raw.githubusercontent.com/AIKhawaja/EVD-Vaccine-HIT/main/data/Total%20Cases.txt')\n",
        "Total_Deaths_Sierra_Leone = np.loadtxt('https://raw.githubusercontent.com/AIKhawaja/EVD-Vaccine-HIT/main/data/Total%20Deaths%2C%20Sierra%20Leone.txt')\n",
        "Total_Cases_Sierra_Leone = np.loadtxt('https://raw.githubusercontent.com/AIKhawaja/EVD-Vaccine-HIT/main/data/Total%20Cases%2C%20Sierra%20Leone.txt')\n",
        "Total_Deaths_Liberia = np.loadtxt('https://raw.githubusercontent.com/AIKhawaja/EVD-Vaccine-HIT/main/data/Total%20Deaths%2C%20Liberia.txt')\n",
        "Total_Cases_Liberia = np.loadtxt('https://raw.githubusercontent.com/AIKhawaja/EVD-Vaccine-HIT/main/data/Total%20Cases%2C%20Liberia.txt')\n",
        "Total_Deaths_Guinea = np.loadtxt('https://raw.githubusercontent.com/AIKhawaja/EVD-Vaccine-HIT/main/data/Total%20Deaths%2C%20Guinea.txt')\n",
        "Total_Cases_Guinea = np.loadtxt('https://raw.githubusercontent.com/AIKhawaja/EVD-Vaccine-HIT/main/data/Total%20Cases%2C%20Guinea.txt')"
      ],
      "execution_count": null,
      "outputs": []
    },
    {
      "cell_type": "code",
      "metadata": {
        "id": "IjPDAFtL2NA4"
      },
      "source": [
        "\n",
        "pyplot.scatter(date_starting_3_25_2014,Total_Cases, s=.6)\n",
        "pyplot.scatter(date_starting_3_25_2014,Total_Deaths, color = 'red', s=.6)"
      ],
      "execution_count": null,
      "outputs": []
    },
    {
      "cell_type": "code",
      "metadata": {
        "id": "58QpNp663Dvd"
      },
      "source": [
        "#SIRD MODEL fitting by non-linear optimization\n",
        "t = date_starting_3_25_2014\n",
        "def coef(theta):\n",
        "  alpha,beta,gamma,delta = theta\n",
        "  S=0 \n",
        "  I=0\n",
        "  R=0\n",
        "  D=0\n",
        "\n",
        "  #Differential Equations\n",
        "\n",
        "  Ss= -alpha*S*I + gamma*R\n",
        "  Is = alpha*S*I-beta*I-delta*I\n",
        "  Rs = beta*I-gamma*R\n",
        "  Ds= delta*I\n",
        "\n",
        "  def SIRD_system(T,t):\n",
        "    S,I,R,D=T\n",
        "    system=np.array([-alpha*S*I + gamma*R,\n",
        "                    alpha*S*I-beta*I-delta*I,\n",
        "                    beta*I-gamma*R,\n",
        "                     delta*I])\n",
        "    return(system)\n",
        "\n",
        "  fitted = integrate.odeint(SIRD_system,[17000000,80,0,0],t)\n",
        "  sse = 0\n",
        "  for i in range(len(t)):\n",
        "    sse += (Total_Cases[i] - fitted[:,1][i])**2\n",
        "  return(sse)\n",
        "\n",
        "optimize.minimize(coef,[ 1.5003476 ,  1.13496031, -0.25977773,  2.31607811])"
      ],
      "execution_count": null,
      "outputs": []
    },
    {
      "cell_type": "code",
      "metadata": {
        "id": "XcgUIkMarhcF"
      },
      "source": [
        "#plotting\n",
        "t = date_starting_3_25_2014\n",
        "\n",
        "alpha = 1.50034761\n",
        "beta = 1.1349603\n",
        "gamma = -0.25977774\n",
        "delta =  2.31607808\n",
        "R0 = alpha/beta\n",
        "S=0\n",
        "I=0\n",
        "R=0\n",
        "D=0\n",
        "\n",
        "#Differential Equations\n",
        "\n",
        "Ss= -alpha*S*I + gamma*R\n",
        "Is = alpha*S*I-beta*I-delta*I\n",
        "Rs = beta*I-gamma*R\n",
        "Ds= delta*I\n",
        "\n",
        "def SIRD_system(T,t):\n",
        "  S,I,R,D=T\n",
        "  system=np.array([-alpha*S*I + gamma*R,\n",
        "                  alpha*S*I-beta*I-delta*I,\n",
        "                  beta*I-gamma*R,delta*I])\n",
        "  return(system)\n",
        "results  = integrate.odeint(SIRD_system,[17000000,80,0,0],t)\n",
        "\n",
        "S = results[:,0]\n",
        "I = results[:,1]\n",
        "R = results[:,2]\n",
        "D = results[:,3]\n",
        "#pyplot.plot(t,S)\n",
        "#pyplot.plot(t,I)\n",
        "#pyplot.plot(t,R)\n",
        "#pyplot.plot(t,D)\n",
        "pyplot.scatter(date_starting_3_25_2014,Total_Cases, s=.6)\n",
        "pyplot.scatter(date_starting_3_25_2014,Total_Deaths, color = 'red', s=.6)"
      ],
      "execution_count": null,
      "outputs": []
    },
    {
      "cell_type": "code",
      "metadata": {
        "id": "ZpDoiKf4fvRa"
      },
      "source": [
        "# will be fitiing model based on I, D categories "
      ],
      "execution_count": null,
      "outputs": []
    }
  ]
}